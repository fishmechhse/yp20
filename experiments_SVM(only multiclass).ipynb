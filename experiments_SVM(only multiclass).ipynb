{
 "cells": [
  {
   "cell_type": "code",
   "execution_count": 2,
   "id": "4EE1bgoJyoCW",
   "metadata": {
    "colab": {
     "base_uri": "https://localhost:8080/"
    },
    "id": "4EE1bgoJyoCW",
    "outputId": "f07fd9f6-aa97-4bcf-fff9-3b8364f6d9f2"
   },
   "outputs": [
    {
     "name": "stdout",
     "output_type": "stream",
     "text": [
      "Defaulting to user installation because normal site-packages is not writeable\n",
      "Requirement already satisfied: wfdb in c:\\users\\user\\appdata\\roaming\\python\\python313\\site-packages (4.1.2)\n",
      "Requirement already satisfied: SoundFile>=0.10.0 in c:\\users\\user\\appdata\\roaming\\python\\python313\\site-packages (from wfdb) (0.12.1)\n",
      "Requirement already satisfied: matplotlib>=3.2.2 in c:\\users\\user\\appdata\\roaming\\python\\python313\\site-packages (from wfdb) (3.10.0)\n",
      "Requirement already satisfied: numpy>=1.10.1 in c:\\users\\user\\appdata\\roaming\\python\\python313\\site-packages (from wfdb) (2.2.0)\n",
      "Requirement already satisfied: pandas>=1.3.0 in c:\\users\\user\\appdata\\roaming\\python\\python313\\site-packages (from wfdb) (2.2.3)\n",
      "Requirement already satisfied: requests>=2.8.1 in c:\\users\\user\\appdata\\roaming\\python\\python313\\site-packages (from wfdb) (2.32.3)\n",
      "Requirement already satisfied: scipy>=1.0.0 in c:\\users\\user\\appdata\\roaming\\python\\python313\\site-packages (from wfdb) (1.14.1)\n",
      "Requirement already satisfied: contourpy>=1.0.1 in c:\\users\\user\\appdata\\roaming\\python\\python313\\site-packages (from matplotlib>=3.2.2->wfdb) (1.3.1)\n",
      "Requirement already satisfied: cycler>=0.10 in c:\\users\\user\\appdata\\roaming\\python\\python313\\site-packages (from matplotlib>=3.2.2->wfdb) (0.12.1)\n",
      "Requirement already satisfied: fonttools>=4.22.0 in c:\\users\\user\\appdata\\roaming\\python\\python313\\site-packages (from matplotlib>=3.2.2->wfdb) (4.55.3)\n",
      "Requirement already satisfied: kiwisolver>=1.3.1 in c:\\users\\user\\appdata\\roaming\\python\\python313\\site-packages (from matplotlib>=3.2.2->wfdb) (1.4.7)\n",
      "Requirement already satisfied: packaging>=20.0 in c:\\users\\user\\appdata\\roaming\\python\\python313\\site-packages (from matplotlib>=3.2.2->wfdb) (24.2)\n",
      "Requirement already satisfied: pillow>=8 in c:\\users\\user\\appdata\\roaming\\python\\python313\\site-packages (from matplotlib>=3.2.2->wfdb) (11.0.0)\n",
      "Requirement already satisfied: pyparsing>=2.3.1 in c:\\users\\user\\appdata\\roaming\\python\\python313\\site-packages (from matplotlib>=3.2.2->wfdb) (3.2.0)\n",
      "Requirement already satisfied: python-dateutil>=2.7 in c:\\users\\user\\appdata\\roaming\\python\\python313\\site-packages (from matplotlib>=3.2.2->wfdb) (2.9.0.post0)\n",
      "Requirement already satisfied: pytz>=2020.1 in c:\\users\\user\\appdata\\roaming\\python\\python313\\site-packages (from pandas>=1.3.0->wfdb) (2024.2)\n",
      "Requirement already satisfied: tzdata>=2022.7 in c:\\users\\user\\appdata\\roaming\\python\\python313\\site-packages (from pandas>=1.3.0->wfdb) (2024.2)\n",
      "Requirement already satisfied: charset-normalizer<4,>=2 in c:\\users\\user\\appdata\\roaming\\python\\python313\\site-packages (from requests>=2.8.1->wfdb) (3.4.0)\n",
      "Requirement already satisfied: idna<4,>=2.5 in c:\\users\\user\\appdata\\roaming\\python\\python313\\site-packages (from requests>=2.8.1->wfdb) (3.10)\n",
      "Requirement already satisfied: urllib3<3,>=1.21.1 in c:\\users\\user\\appdata\\roaming\\python\\python313\\site-packages (from requests>=2.8.1->wfdb) (2.2.3)\n",
      "Requirement already satisfied: certifi>=2017.4.17 in c:\\users\\user\\appdata\\roaming\\python\\python313\\site-packages (from requests>=2.8.1->wfdb) (2024.12.14)\n",
      "Requirement already satisfied: cffi>=1.0 in c:\\users\\user\\appdata\\roaming\\python\\python313\\site-packages (from SoundFile>=0.10.0->wfdb) (1.17.1)\n",
      "Requirement already satisfied: pycparser in c:\\users\\user\\appdata\\roaming\\python\\python313\\site-packages (from cffi>=1.0->SoundFile>=0.10.0->wfdb) (2.22)\n",
      "Requirement already satisfied: six>=1.5 in c:\\users\\user\\appdata\\roaming\\python\\python313\\site-packages (from python-dateutil>=2.7->matplotlib>=3.2.2->wfdb) (1.17.0)\n"
     ]
    }
   ],
   "source": [
    "import pandas as pd\n",
    "import numpy as np\n",
    "!pip install wfdb\n",
    "import wfdb\n",
    "import warnings; warnings.filterwarnings('ignore')\n",
    "import ast\n",
    "def load_raw_data(df, sampling_rate, path):\n",
    "    if sampling_rate == 100:\n",
    "        data = [wfdb.rdsamp(path+f) for f in df.filename_lr]\n",
    "    else:\n",
    "        data = [wfdb.rdsamp(path+f) for f in df.filename_hr]\n",
    "    data = np.array([signal for signal, meta in data])\n",
    "    return data\n",
    "\n",
    "path = 'G:/yp20-main/dataset/'\n",
    "sampling_rate=100\n",
    "\n",
    "# load and convert annotation data\n",
    "Y = pd.read_csv(path+'ptbxl_database.csv')\n",
    "Y.scp_codes = Y.scp_codes.apply(lambda x: ast.literal_eval(x))\n",
    "\n",
    "\n",
    "# Load scp_statements.csv for diagnostic aggregation\n",
    "agg_df = pd.read_csv(path+'scp_statements.csv', index_col=0)\n",
    "agg_df = agg_df[agg_df.diagnostic == 1]\n",
    "\n",
    "def aggregate_diagnostic(y_dic):\n",
    "    tmp = []\n",
    "    for key in y_dic.keys():\n",
    "        if key in agg_df.index:\n",
    "            tmp.append(agg_df.loc[key].diagnostic_class)\n",
    "    return ', '.join(list(set(tmp)))"
   ]
  },
  {
   "cell_type": "code",
   "execution_count": 3,
   "id": "1af9e4a5-cc61-46b6-b1a5-1b20f58df62c",
   "metadata": {
    "id": "1af9e4a5-cc61-46b6-b1a5-1b20f58df62c"
   },
   "outputs": [],
   "source": [
    "# Load raw signal data\n",
    "X = load_raw_data(Y, sampling_rate, path)"
   ]
  },
  {
   "cell_type": "code",
   "execution_count": 29,
   "id": "2d18eeed-6a69-4f26-ad39-944c08e364f6",
   "metadata": {},
   "outputs": [],
   "source": [
    "#Создаем 12 датасетов, где каждый датасет обозначает одно отведение(1000 штук) из двенадцати\n",
    "X_ecg1 = pd.DataFrame(X[:, :, 0])\n",
    "X_ecg2 = pd.DataFrame(X[:, :, 1])\n",
    "X_ecg3 = pd.DataFrame(X[:, :, 2])\n",
    "X_ecg4 = pd.DataFrame(X[:, :, 3])\n",
    "X_ecg5 = pd.DataFrame(X[:, :, 4])\n",
    "X_ecg6 = pd.DataFrame(X[:, :, 5])\n",
    "X_ecg7 = pd.DataFrame(X[:, :, 6])\n",
    "X_ecg8 = pd.DataFrame(X[:, :, 7])\n",
    "X_ecg9 = pd.DataFrame(X[:, :, 8])\n",
    "X_ecg10 = pd.DataFrame(X[:, :, 9])\n",
    "X_ecg11 = pd.DataFrame(X[:, :, 10])\n",
    "X_ecg12 = pd.DataFrame(X[:, :, 11])"
   ]
  },
  {
   "cell_type": "code",
   "execution_count": 30,
   "id": "96aa2b95-c7db-454e-930b-ab616d03d427",
   "metadata": {},
   "outputs": [],
   "source": [
    "#Соединяем датасеты с отведениями с признаками 'age' и 'sex'.\n",
    "df = Y[['age', 'sex']]\n",
    "X_ecg1 = pd.concat([X_ecg1, df], axis=1)\n",
    "X_ecg1.columns = X_ecg1.columns.astype(str)\n",
    "\n",
    "X_ecg2 = pd.concat([X_ecg2, df], axis=1)\n",
    "X_ecg2.columns = X_ecg2.columns.astype(str)\n",
    "\n",
    "X_ecg3 = pd.concat([X_ecg3, df], axis=1)\n",
    "X_ecg3.columns = X_ecg3.columns.astype(str)\n",
    "\n",
    "X_ecg4 = pd.concat([X_ecg4, df], axis=1)\n",
    "X_ecg4.columns = X_ecg4.columns.astype(str)\n",
    "\n",
    "X_ecg5 = pd.concat([X_ecg5, df], axis=1)\n",
    "X_ecg5.columns = X_ecg5.columns.astype(str)\n",
    "\n",
    "X_ecg6 = pd.concat([X_ecg6, df], axis=1)\n",
    "X_ecg6.columns = X_ecg6.columns.astype(str)\n",
    "\n",
    "X_ecg7 = pd.concat([X_ecg7, df], axis=1)\n",
    "X_ecg7.columns = X_ecg7.columns.astype(str)\n",
    "\n",
    "X_ecg8 = pd.concat([X_ecg8, df], axis=1)\n",
    "X_ecg8.columns = X_ecg8.columns.astype(str)\n",
    "\n",
    "X_ecg9 = pd.concat([X_ecg9, df], axis=1)\n",
    "X_ecg9.columns = X_ecg9.columns.astype(str)\n",
    "\n",
    "X_ecg10 = pd.concat([X_ecg10, df], axis=1)\n",
    "X_ecg10.columns = X_ecg10.columns.astype(str)\n",
    "\n",
    "X_ecg11 = pd.concat([X_ecg11, df], axis=1)\n",
    "X_ecg11.columns = X_ecg11.columns.astype(str)\n",
    "\n",
    "X_ecg12 = pd.concat([X_ecg12, df], axis=1)\n",
    "X_ecg12.columns = X_ecg12.columns.astype(str)"
   ]
  },
  {
   "cell_type": "code",
   "execution_count": 31,
   "id": "cc9556d1-b8d1-468a-b500-099537f1900d",
   "metadata": {},
   "outputs": [
    {
     "data": {
      "text/html": [
       "<div>\n",
       "<style scoped>\n",
       "    .dataframe tbody tr th:only-of-type {\n",
       "        vertical-align: middle;\n",
       "    }\n",
       "\n",
       "    .dataframe tbody tr th {\n",
       "        vertical-align: top;\n",
       "    }\n",
       "\n",
       "    .dataframe thead th {\n",
       "        text-align: right;\n",
       "    }\n",
       "</style>\n",
       "<table border=\"1\" class=\"dataframe\">\n",
       "  <thead>\n",
       "    <tr style=\"text-align: right;\">\n",
       "      <th></th>\n",
       "      <th>0</th>\n",
       "      <th>1</th>\n",
       "      <th>2</th>\n",
       "      <th>3</th>\n",
       "      <th>4</th>\n",
       "      <th>5</th>\n",
       "      <th>6</th>\n",
       "      <th>7</th>\n",
       "      <th>8</th>\n",
       "      <th>9</th>\n",
       "      <th>...</th>\n",
       "      <th>992</th>\n",
       "      <th>993</th>\n",
       "      <th>994</th>\n",
       "      <th>995</th>\n",
       "      <th>996</th>\n",
       "      <th>997</th>\n",
       "      <th>998</th>\n",
       "      <th>999</th>\n",
       "      <th>age</th>\n",
       "      <th>sex</th>\n",
       "    </tr>\n",
       "  </thead>\n",
       "  <tbody>\n",
       "    <tr>\n",
       "      <th>0</th>\n",
       "      <td>-0.119</td>\n",
       "      <td>-0.116</td>\n",
       "      <td>-0.120</td>\n",
       "      <td>-0.117</td>\n",
       "      <td>-0.103</td>\n",
       "      <td>-0.097</td>\n",
       "      <td>-0.119</td>\n",
       "      <td>-0.096</td>\n",
       "      <td>-0.048</td>\n",
       "      <td>-0.037</td>\n",
       "      <td>...</td>\n",
       "      <td>0.115</td>\n",
       "      <td>0.107</td>\n",
       "      <td>0.107</td>\n",
       "      <td>0.106</td>\n",
       "      <td>0.090</td>\n",
       "      <td>0.069</td>\n",
       "      <td>0.086</td>\n",
       "      <td>0.022</td>\n",
       "      <td>56.0</td>\n",
       "      <td>1</td>\n",
       "    </tr>\n",
       "    <tr>\n",
       "      <th>1</th>\n",
       "      <td>0.004</td>\n",
       "      <td>-0.020</td>\n",
       "      <td>-0.053</td>\n",
       "      <td>-0.056</td>\n",
       "      <td>-0.062</td>\n",
       "      <td>-0.065</td>\n",
       "      <td>-0.061</td>\n",
       "      <td>-0.061</td>\n",
       "      <td>-0.064</td>\n",
       "      <td>-0.061</td>\n",
       "      <td>...</td>\n",
       "      <td>0.004</td>\n",
       "      <td>0.044</td>\n",
       "      <td>0.507</td>\n",
       "      <td>0.554</td>\n",
       "      <td>0.316</td>\n",
       "      <td>0.121</td>\n",
       "      <td>-0.326</td>\n",
       "      <td>-0.348</td>\n",
       "      <td>19.0</td>\n",
       "      <td>0</td>\n",
       "    </tr>\n",
       "    <tr>\n",
       "      <th>2</th>\n",
       "      <td>-0.029</td>\n",
       "      <td>-0.035</td>\n",
       "      <td>-0.054</td>\n",
       "      <td>-0.078</td>\n",
       "      <td>-0.088</td>\n",
       "      <td>-0.022</td>\n",
       "      <td>0.346</td>\n",
       "      <td>0.784</td>\n",
       "      <td>0.426</td>\n",
       "      <td>-0.076</td>\n",
       "      <td>...</td>\n",
       "      <td>-0.026</td>\n",
       "      <td>-0.032</td>\n",
       "      <td>-0.052</td>\n",
       "      <td>-0.039</td>\n",
       "      <td>-0.034</td>\n",
       "      <td>-0.029</td>\n",
       "      <td>-0.048</td>\n",
       "      <td>-0.049</td>\n",
       "      <td>37.0</td>\n",
       "      <td>1</td>\n",
       "    </tr>\n",
       "    <tr>\n",
       "      <th>3</th>\n",
       "      <td>-0.054</td>\n",
       "      <td>-0.053</td>\n",
       "      <td>-0.063</td>\n",
       "      <td>-0.060</td>\n",
       "      <td>-0.050</td>\n",
       "      <td>-0.054</td>\n",
       "      <td>-0.059</td>\n",
       "      <td>-0.058</td>\n",
       "      <td>-0.054</td>\n",
       "      <td>-0.051</td>\n",
       "      <td>...</td>\n",
       "      <td>-0.280</td>\n",
       "      <td>-0.076</td>\n",
       "      <td>-0.012</td>\n",
       "      <td>0.001</td>\n",
       "      <td>-0.003</td>\n",
       "      <td>0.026</td>\n",
       "      <td>0.026</td>\n",
       "      <td>0.028</td>\n",
       "      <td>24.0</td>\n",
       "      <td>0</td>\n",
       "    </tr>\n",
       "    <tr>\n",
       "      <th>4</th>\n",
       "      <td>-0.034</td>\n",
       "      <td>-0.038</td>\n",
       "      <td>-0.057</td>\n",
       "      <td>-0.066</td>\n",
       "      <td>-0.080</td>\n",
       "      <td>-0.085</td>\n",
       "      <td>-0.058</td>\n",
       "      <td>-0.061</td>\n",
       "      <td>-0.068</td>\n",
       "      <td>-0.065</td>\n",
       "      <td>...</td>\n",
       "      <td>0.003</td>\n",
       "      <td>0.013</td>\n",
       "      <td>0.018</td>\n",
       "      <td>-0.001</td>\n",
       "      <td>0.007</td>\n",
       "      <td>0.000</td>\n",
       "      <td>-0.003</td>\n",
       "      <td>-0.012</td>\n",
       "      <td>19.0</td>\n",
       "      <td>1</td>\n",
       "    </tr>\n",
       "    <tr>\n",
       "      <th>...</th>\n",
       "      <td>...</td>\n",
       "      <td>...</td>\n",
       "      <td>...</td>\n",
       "      <td>...</td>\n",
       "      <td>...</td>\n",
       "      <td>...</td>\n",
       "      <td>...</td>\n",
       "      <td>...</td>\n",
       "      <td>...</td>\n",
       "      <td>...</td>\n",
       "      <td>...</td>\n",
       "      <td>...</td>\n",
       "      <td>...</td>\n",
       "      <td>...</td>\n",
       "      <td>...</td>\n",
       "      <td>...</td>\n",
       "      <td>...</td>\n",
       "      <td>...</td>\n",
       "      <td>...</td>\n",
       "      <td>...</td>\n",
       "      <td>...</td>\n",
       "    </tr>\n",
       "    <tr>\n",
       "      <th>21794</th>\n",
       "      <td>-0.052</td>\n",
       "      <td>-0.077</td>\n",
       "      <td>-0.042</td>\n",
       "      <td>0.008</td>\n",
       "      <td>-0.044</td>\n",
       "      <td>0.035</td>\n",
       "      <td>0.122</td>\n",
       "      <td>0.131</td>\n",
       "      <td>0.129</td>\n",
       "      <td>0.073</td>\n",
       "      <td>...</td>\n",
       "      <td>-0.104</td>\n",
       "      <td>-0.097</td>\n",
       "      <td>-0.052</td>\n",
       "      <td>0.010</td>\n",
       "      <td>0.019</td>\n",
       "      <td>-0.024</td>\n",
       "      <td>-0.061</td>\n",
       "      <td>-0.050</td>\n",
       "      <td>67.0</td>\n",
       "      <td>1</td>\n",
       "    </tr>\n",
       "    <tr>\n",
       "      <th>21795</th>\n",
       "      <td>-0.050</td>\n",
       "      <td>-0.032</td>\n",
       "      <td>0.008</td>\n",
       "      <td>0.014</td>\n",
       "      <td>0.010</td>\n",
       "      <td>0.032</td>\n",
       "      <td>0.005</td>\n",
       "      <td>-0.048</td>\n",
       "      <td>-0.041</td>\n",
       "      <td>-0.038</td>\n",
       "      <td>...</td>\n",
       "      <td>-0.062</td>\n",
       "      <td>-0.059</td>\n",
       "      <td>-0.074</td>\n",
       "      <td>-0.069</td>\n",
       "      <td>-0.107</td>\n",
       "      <td>0.058</td>\n",
       "      <td>0.501</td>\n",
       "      <td>0.584</td>\n",
       "      <td>300.0</td>\n",
       "      <td>0</td>\n",
       "    </tr>\n",
       "    <tr>\n",
       "      <th>21796</th>\n",
       "      <td>0.038</td>\n",
       "      <td>0.078</td>\n",
       "      <td>-0.014</td>\n",
       "      <td>0.072</td>\n",
       "      <td>0.167</td>\n",
       "      <td>0.071</td>\n",
       "      <td>0.108</td>\n",
       "      <td>0.043</td>\n",
       "      <td>0.001</td>\n",
       "      <td>0.031</td>\n",
       "      <td>...</td>\n",
       "      <td>0.504</td>\n",
       "      <td>0.613</td>\n",
       "      <td>0.328</td>\n",
       "      <td>0.061</td>\n",
       "      <td>0.037</td>\n",
       "      <td>-0.106</td>\n",
       "      <td>-0.045</td>\n",
       "      <td>0.463</td>\n",
       "      <td>59.0</td>\n",
       "      <td>1</td>\n",
       "    </tr>\n",
       "    <tr>\n",
       "      <th>21797</th>\n",
       "      <td>-0.057</td>\n",
       "      <td>-0.041</td>\n",
       "      <td>0.003</td>\n",
       "      <td>0.000</td>\n",
       "      <td>0.022</td>\n",
       "      <td>0.038</td>\n",
       "      <td>0.019</td>\n",
       "      <td>0.034</td>\n",
       "      <td>0.045</td>\n",
       "      <td>0.017</td>\n",
       "      <td>...</td>\n",
       "      <td>0.116</td>\n",
       "      <td>0.115</td>\n",
       "      <td>0.112</td>\n",
       "      <td>0.096</td>\n",
       "      <td>0.051</td>\n",
       "      <td>0.033</td>\n",
       "      <td>0.027</td>\n",
       "      <td>-0.006</td>\n",
       "      <td>64.0</td>\n",
       "      <td>1</td>\n",
       "    </tr>\n",
       "    <tr>\n",
       "      <th>21798</th>\n",
       "      <td>-0.049</td>\n",
       "      <td>-0.049</td>\n",
       "      <td>-0.059</td>\n",
       "      <td>-0.066</td>\n",
       "      <td>-0.058</td>\n",
       "      <td>-0.042</td>\n",
       "      <td>-0.035</td>\n",
       "      <td>-0.029</td>\n",
       "      <td>-0.016</td>\n",
       "      <td>-0.014</td>\n",
       "      <td>...</td>\n",
       "      <td>-0.068</td>\n",
       "      <td>-0.060</td>\n",
       "      <td>-0.040</td>\n",
       "      <td>-0.024</td>\n",
       "      <td>0.000</td>\n",
       "      <td>0.091</td>\n",
       "      <td>0.175</td>\n",
       "      <td>0.166</td>\n",
       "      <td>68.0</td>\n",
       "      <td>0</td>\n",
       "    </tr>\n",
       "  </tbody>\n",
       "</table>\n",
       "<p>21799 rows × 1002 columns</p>\n",
       "</div>"
      ],
      "text/plain": [
       "           0      1      2      3      4      5      6      7      8      9  \\\n",
       "0     -0.119 -0.116 -0.120 -0.117 -0.103 -0.097 -0.119 -0.096 -0.048 -0.037   \n",
       "1      0.004 -0.020 -0.053 -0.056 -0.062 -0.065 -0.061 -0.061 -0.064 -0.061   \n",
       "2     -0.029 -0.035 -0.054 -0.078 -0.088 -0.022  0.346  0.784  0.426 -0.076   \n",
       "3     -0.054 -0.053 -0.063 -0.060 -0.050 -0.054 -0.059 -0.058 -0.054 -0.051   \n",
       "4     -0.034 -0.038 -0.057 -0.066 -0.080 -0.085 -0.058 -0.061 -0.068 -0.065   \n",
       "...      ...    ...    ...    ...    ...    ...    ...    ...    ...    ...   \n",
       "21794 -0.052 -0.077 -0.042  0.008 -0.044  0.035  0.122  0.131  0.129  0.073   \n",
       "21795 -0.050 -0.032  0.008  0.014  0.010  0.032  0.005 -0.048 -0.041 -0.038   \n",
       "21796  0.038  0.078 -0.014  0.072  0.167  0.071  0.108  0.043  0.001  0.031   \n",
       "21797 -0.057 -0.041  0.003  0.000  0.022  0.038  0.019  0.034  0.045  0.017   \n",
       "21798 -0.049 -0.049 -0.059 -0.066 -0.058 -0.042 -0.035 -0.029 -0.016 -0.014   \n",
       "\n",
       "       ...    992    993    994    995    996    997    998    999    age  sex  \n",
       "0      ...  0.115  0.107  0.107  0.106  0.090  0.069  0.086  0.022   56.0    1  \n",
       "1      ...  0.004  0.044  0.507  0.554  0.316  0.121 -0.326 -0.348   19.0    0  \n",
       "2      ... -0.026 -0.032 -0.052 -0.039 -0.034 -0.029 -0.048 -0.049   37.0    1  \n",
       "3      ... -0.280 -0.076 -0.012  0.001 -0.003  0.026  0.026  0.028   24.0    0  \n",
       "4      ...  0.003  0.013  0.018 -0.001  0.007  0.000 -0.003 -0.012   19.0    1  \n",
       "...    ...    ...    ...    ...    ...    ...    ...    ...    ...    ...  ...  \n",
       "21794  ... -0.104 -0.097 -0.052  0.010  0.019 -0.024 -0.061 -0.050   67.0    1  \n",
       "21795  ... -0.062 -0.059 -0.074 -0.069 -0.107  0.058  0.501  0.584  300.0    0  \n",
       "21796  ...  0.504  0.613  0.328  0.061  0.037 -0.106 -0.045  0.463   59.0    1  \n",
       "21797  ...  0.116  0.115  0.112  0.096  0.051  0.033  0.027 -0.006   64.0    1  \n",
       "21798  ... -0.068 -0.060 -0.040 -0.024  0.000  0.091  0.175  0.166   68.0    0  \n",
       "\n",
       "[21799 rows x 1002 columns]"
      ]
     },
     "execution_count": 31,
     "metadata": {},
     "output_type": "execute_result"
    }
   ],
   "source": [
    "#Датасет с 1 отведением\n",
    "X_ecg1"
   ]
  },
  {
   "cell_type": "code",
   "execution_count": 32,
   "id": "519f39f6-b239-4ec7-9181-690dcc04e23b",
   "metadata": {
    "id": "519f39f6-b239-4ec7-9181-690dcc04e23b"
   },
   "outputs": [],
   "source": [
    "from sklearn.model_selection import train_test_split\n",
    "from sklearn.preprocessing import StandardScaler, LabelEncoder\n",
    "from sklearn.svm import LinearSVC\n",
    "from sklearn.metrics import f1_score, accuracy_score"
   ]
  },
  {
   "cell_type": "markdown",
   "id": "4370c77c-4dc9-4b01-9ec5-c25e0e23995c",
   "metadata": {
    "id": "4370c77c-4dc9-4b01-9ec5-c25e0e23995c"
   },
   "source": [
    "Модель мультиклассовой классификации методом опорных векторов"
   ]
  },
  {
   "cell_type": "code",
   "execution_count": 33,
   "id": "fca9e0cc-9eea-4c4b-ad9a-511e4c0916df",
   "metadata": {
    "colab": {
     "base_uri": "https://localhost:8080/",
     "height": 398
    },
    "id": "fca9e0cc-9eea-4c4b-ad9a-511e4c0916df",
    "outputId": "0bbb1d98-f4ec-48c1-95ad-d9d36735c11a"
   },
   "outputs": [],
   "source": [
    "#Таргет\n",
    "Y['diagnostic_superclass'] = Y.scp_codes.apply(aggregate_diagnostic)\n",
    "y = Y['diagnostic_superclass']\n",
    "label_encoder = LabelEncoder()\n",
    "y_encoded = label_encoder.fit_transform(y)\n",
    "y = y_encoded"
   ]
  },
  {
   "cell_type": "code",
   "execution_count": 12,
   "id": "edf1fa46-3bc7-46dc-8b1e-837e1aa2c22b",
   "metadata": {},
   "outputs": [],
   "source": [
    "#Обучение 1-ого отведения\n",
    "X_train, X_test, y_train, y_test = train_test_split(X_ecg1, y, test_size=0.3, random_state=42)\n",
    "std = StandardScaler()\n",
    "std.fit(X_train)\n",
    "X_train = std.transform(X_train)\n",
    "X_test = std.transform(X_test)\n",
    "model = LinearSVC(C=0.1, multi_class='ovr')\n",
    "model.fit(X_train, y_train)\n",
    "pred = model.predict(X_test)"
   ]
  },
  {
   "cell_type": "code",
   "execution_count": 13,
   "id": "be3db9dd-6e41-4807-b3c7-161e1416c4e7",
   "metadata": {},
   "outputs": [
    {
     "name": "stdout",
     "output_type": "stream",
     "text": [
      "Accuracy: 0.3903669724770642\n",
      "F1 Score (weighted): 0.28270111746849585\n"
     ]
    }
   ],
   "source": [
    "accuracy = accuracy_score(y_test, pred)\n",
    "f1 = f1_score(y_test, pred, average='weighted') \n",
    "print(\"Accuracy:\", accuracy)\n",
    "print(\"F1 Score:\", f1)"
   ]
  },
  {
   "cell_type": "code",
   "execution_count": 18,
   "id": "f57d5ad2-3437-4139-955a-887a6f7778c0",
   "metadata": {},
   "outputs": [
    {
     "name": "stdout",
     "output_type": "stream",
     "text": [
      "Accuracy: 0.38654434250764524\n",
      "F1 Score: 0.2701390167589735\n"
     ]
    }
   ],
   "source": [
    "#Обучение 2-ого отведения\n",
    "X_train, X_test, y_train, y_test = train_test_split(X_ecg2, y, test_size=0.3, random_state=42)\n",
    "std = StandardScaler()\n",
    "std.fit(X_train)\n",
    "X_train = std.transform(X_train)\n",
    "X_test = std.transform(X_test)\n",
    "model = LinearSVC(C=0.1, multi_class='ovr')\n",
    "model.fit(X_train, y_train)\n",
    "pred = model.predict(X_test)\n",
    "accuracy = accuracy_score(y_test, pred)\n",
    "f1 = f1_score(y_test, pred, average='weighted') \n",
    "print(\"Accuracy:\", accuracy)\n",
    "print(\"F1 Score:\", f1)"
   ]
  },
  {
   "cell_type": "code",
   "execution_count": 19,
   "id": "a89c5a63-2a9e-4d63-b2ce-19a8392ceacf",
   "metadata": {},
   "outputs": [
    {
     "name": "stdout",
     "output_type": "stream",
     "text": [
      "Accuracy: 0.40091743119266054\n",
      "F1 Score: 0.28680277934264997\n"
     ]
    }
   ],
   "source": [
    "#Обучение 3-его отведения\n",
    "X_train, X_test, y_train, y_test = train_test_split(X_ecg3, y, test_size=0.3, random_state=42)\n",
    "std = StandardScaler()\n",
    "std.fit(X_train)\n",
    "X_train = std.transform(X_train)\n",
    "X_test = std.transform(X_test)\n",
    "model = LinearSVC(C=0.1, multi_class='ovr')\n",
    "model.fit(X_train, y_train)\n",
    "pred = model.predict(X_test)\n",
    "accuracy = accuracy_score(y_test, pred)\n",
    "f1 = f1_score(y_test, pred, average='weighted') \n",
    "print(\"Accuracy:\", accuracy)\n",
    "print(\"F1 Score:\", f1)"
   ]
  },
  {
   "cell_type": "code",
   "execution_count": 20,
   "id": "86fb804b-54c0-4fce-a25a-92400c728a1a",
   "metadata": {},
   "outputs": [
    {
     "name": "stdout",
     "output_type": "stream",
     "text": [
      "Accuracy: 0.3827217125382263\n",
      "F1 Score: 0.27227878616196377\n"
     ]
    }
   ],
   "source": [
    "#Обучение 4 отведения\n",
    "X_train, X_test, y_train, y_test = train_test_split(X_ecg4, y, test_size=0.3, random_state=42)\n",
    "std = StandardScaler()\n",
    "std.fit(X_train)\n",
    "X_train = std.transform(X_train)\n",
    "X_test = std.transform(X_test)\n",
    "model = LinearSVC(C=0.1, multi_class='ovr')\n",
    "model.fit(X_train, y_train)\n",
    "pred = model.predict(X_test)\n",
    "accuracy = accuracy_score(y_test, pred)\n",
    "f1 = f1_score(y_test, pred, average='weighted') \n",
    "print(\"Accuracy:\", accuracy)\n",
    "print(\"F1 Score:\", f1)"
   ]
  },
  {
   "cell_type": "code",
   "execution_count": 21,
   "id": "e89d9931-ef4e-4c07-b45e-49136026da23",
   "metadata": {},
   "outputs": [
    {
     "name": "stdout",
     "output_type": "stream",
     "text": [
      "Accuracy: 0.4010703363914373\n",
      "F1 Score: 0.2905188976873145\n"
     ]
    }
   ],
   "source": [
    "#Обучение 5 отведения\n",
    "X_train, X_test, y_train, y_test = train_test_split(X_ecg5, y, test_size=0.3, random_state=42)\n",
    "std = StandardScaler()\n",
    "std.fit(X_train)\n",
    "X_train = std.transform(X_train)\n",
    "X_test = std.transform(X_test)\n",
    "model = LinearSVC(C=0.1, multi_class='ovr')\n",
    "model.fit(X_train, y_train)\n",
    "pred = model.predict(X_test)\n",
    "accuracy = accuracy_score(y_test, pred)\n",
    "f1 = f1_score(y_test, pred, average='weighted') \n",
    "print(\"Accuracy:\", accuracy)\n",
    "print(\"F1 Score:\", f1)"
   ]
  },
  {
   "cell_type": "code",
   "execution_count": 22,
   "id": "36e23058-49b5-4d36-a1a6-6c654f5c4527",
   "metadata": {},
   "outputs": [
    {
     "name": "stdout",
     "output_type": "stream",
     "text": [
      "Accuracy: 0.3940366972477064\n",
      "F1 Score: 0.2770542475477548\n"
     ]
    }
   ],
   "source": [
    "#Обучение 6 отведения\n",
    "X_train, X_test, y_train, y_test = train_test_split(X_ecg6, y, test_size=0.3, random_state=42)\n",
    "std = StandardScaler()\n",
    "std.fit(X_train)\n",
    "X_train = std.transform(X_train)\n",
    "X_test = std.transform(X_test)\n",
    "model = LinearSVC(C=0.1, multi_class='ovr')\n",
    "model.fit(X_train, y_train)\n",
    "pred = model.predict(X_test)\n",
    "accuracy = accuracy_score(y_test, pred)\n",
    "f1 = f1_score(y_test, pred, average='weighted') \n",
    "print(\"Accuracy:\", accuracy)\n",
    "print(\"F1 Score:\", f1)"
   ]
  },
  {
   "cell_type": "code",
   "execution_count": 23,
   "id": "53775d48-e9b7-421d-87f0-37f5468c14cb",
   "metadata": {},
   "outputs": [
    {
     "name": "stdout",
     "output_type": "stream",
     "text": [
      "Accuracy: 0.39938837920489295\n",
      "F1 Score: 0.2824329532369012\n"
     ]
    }
   ],
   "source": [
    "#Обучение 7 отведения\n",
    "X_train, X_test, y_train, y_test = train_test_split(X_ecg7, y, test_size=0.3, random_state=42)\n",
    "std = StandardScaler()\n",
    "std.fit(X_train)\n",
    "X_train = std.transform(X_train)\n",
    "X_test = std.transform(X_test)\n",
    "model = LinearSVC(C=0.1, multi_class='ovr')\n",
    "model.fit(X_train, y_train)\n",
    "pred = model.predict(X_test)\n",
    "accuracy = accuracy_score(y_test, pred)\n",
    "f1 = f1_score(y_test, pred, average='weighted') \n",
    "print(\"Accuracy:\", accuracy)\n",
    "print(\"F1 Score:\", f1)"
   ]
  },
  {
   "cell_type": "code",
   "execution_count": 24,
   "id": "055a3346-c44b-46ca-896f-b081808949d0",
   "metadata": {},
   "outputs": [
    {
     "name": "stdout",
     "output_type": "stream",
     "text": [
      "Accuracy: 0.3964831804281346\n",
      "F1 Score: 0.279864840129561\n"
     ]
    }
   ],
   "source": [
    "#Обучение 8 отведения\n",
    "X_train, X_test, y_train, y_test = train_test_split(X_ecg8, y, test_size=0.3, random_state=42)\n",
    "std = StandardScaler()\n",
    "std.fit(X_train)\n",
    "X_train = std.transform(X_train)\n",
    "X_test = std.transform(X_test)\n",
    "model = LinearSVC(C=0.1, multi_class='ovr')\n",
    "model.fit(X_train, y_train)\n",
    "pred = model.predict(X_test)\n",
    "accuracy = accuracy_score(y_test, pred)\n",
    "f1 = f1_score(y_test, pred, average='weighted') \n",
    "print(\"Accuracy:\", accuracy)\n",
    "print(\"F1 Score:\", f1)"
   ]
  },
  {
   "cell_type": "code",
   "execution_count": 25,
   "id": "a4c74fb5-994b-438d-992a-c493253db9e0",
   "metadata": {},
   "outputs": [
    {
     "name": "stdout",
     "output_type": "stream",
     "text": [
      "Accuracy: 0.39571865443425075\n",
      "F1 Score: 0.2821210296944994\n"
     ]
    }
   ],
   "source": [
    "#Обучение 9 отведения\n",
    "X_train, X_test, y_train, y_test = train_test_split(X_ecg9, y, test_size=0.3, random_state=42)\n",
    "std = StandardScaler()\n",
    "std.fit(X_train)\n",
    "X_train = std.transform(X_train)\n",
    "X_test = std.transform(X_test)\n",
    "model = LinearSVC(C=0.1, multi_class='ovr')\n",
    "model.fit(X_train, y_train)\n",
    "pred = model.predict(X_test)\n",
    "accuracy = accuracy_score(y_test, pred)\n",
    "f1 = f1_score(y_test, pred, average='weighted') \n",
    "print(\"Accuracy:\", accuracy)\n",
    "print(\"F1 Score:\", f1)"
   ]
  },
  {
   "cell_type": "code",
   "execution_count": 26,
   "id": "3df7a5cd-27d4-4ce2-9786-c2eb5cbc7887",
   "metadata": {},
   "outputs": [
    {
     "name": "stdout",
     "output_type": "stream",
     "text": [
      "Accuracy: 0.3856269113149847\n",
      "F1 Score: 0.2736757891948545\n"
     ]
    }
   ],
   "source": [
    "#Обучение 10 отведения\n",
    "X_train, X_test, y_train, y_test = train_test_split(X_ecg10, y, test_size=0.3, random_state=42)\n",
    "std = StandardScaler()\n",
    "std.fit(X_train)\n",
    "X_train = std.transform(X_train)\n",
    "X_test = std.transform(X_test)\n",
    "model = LinearSVC(C=0.1, multi_class='ovr')\n",
    "model.fit(X_train, y_train)\n",
    "pred = model.predict(X_test)\n",
    "accuracy = accuracy_score(y_test, pred)\n",
    "f1 = f1_score(y_test, pred, average='weighted') \n",
    "print(\"Accuracy:\", accuracy)\n",
    "print(\"F1 Score:\", f1)"
   ]
  },
  {
   "cell_type": "code",
   "execution_count": 27,
   "id": "d292a68c-81d9-4da8-8650-0c8b063ec45f",
   "metadata": {},
   "outputs": [
    {
     "name": "stdout",
     "output_type": "stream",
     "text": [
      "Accuracy: 0.38685015290519875\n",
      "F1 Score: 0.27483187116092206\n"
     ]
    }
   ],
   "source": [
    "#Обучение 11 отведения\n",
    "X_train, X_test, y_train, y_test = train_test_split(X_ecg11, y, test_size=0.3, random_state=42)\n",
    "std = StandardScaler()\n",
    "std.fit(X_train)\n",
    "X_train = std.transform(X_train)\n",
    "X_test = std.transform(X_test)\n",
    "model = LinearSVC(C=0.1, multi_class='ovr')\n",
    "model.fit(X_train, y_train)\n",
    "pred = model.predict(X_test)\n",
    "accuracy = accuracy_score(y_test, pred)\n",
    "f1 = f1_score(y_test, pred, average='weighted') \n",
    "print(\"Accuracy:\", accuracy)\n",
    "print(\"F1 Score:\", f1)"
   ]
  },
  {
   "cell_type": "code",
   "execution_count": 28,
   "id": "a9f241ab-4d5f-494c-a915-2b5817bc72e9",
   "metadata": {},
   "outputs": [
    {
     "name": "stdout",
     "output_type": "stream",
     "text": [
      "Accuracy: 0.39067278287461776\n",
      "F1 Score: 0.276477985139825\n"
     ]
    }
   ],
   "source": [
    "#Обучение 12 отведения\n",
    "X_train, X_test, y_train, y_test = train_test_split(X_ecg12, y, test_size=0.3, random_state=42)\n",
    "std = StandardScaler()\n",
    "std.fit(X_train)\n",
    "X_train = std.transform(X_train)\n",
    "X_test = std.transform(X_test)\n",
    "model = LinearSVC(C=0.1, multi_class='ovr')\n",
    "model.fit(X_train, y_train)\n",
    "pred = model.predict(X_test)\n",
    "accuracy = accuracy_score(y_test, pred)\n",
    "f1 = f1_score(y_test, pred, average='weighted') \n",
    "print(\"Accuracy:\", accuracy)\n",
    "print(\"F1 Score:\", f1)"
   ]
  }
 ],
 "metadata": {
  "accelerator": "TPU",
  "colab": {
   "gpuType": "V28",
   "provenance": []
  },
  "kernelspec": {
   "display_name": "Python 3 (ipykernel)",
   "language": "python",
   "name": "python3"
  },
  "language_info": {
   "codemirror_mode": {
    "name": "ipython",
    "version": 3
   },
   "file_extension": ".py",
   "mimetype": "text/x-python",
   "name": "python",
   "nbconvert_exporter": "python",
   "pygments_lexer": "ipython3",
   "version": "3.13.1"
  }
 },
 "nbformat": 4,
 "nbformat_minor": 5
}
